{
  "nbformat": 4,
  "nbformat_minor": 0,
  "metadata": {
    "colab": {
      "name": "Basic Tensorflow Classification",
      "version": "0.3.2",
      "provenance": []
    },
    "kernelspec": {
      "name": "python3",
      "display_name": "Python 3"
    },
    "accelerator": "GPU"
  },
  "cells": [
    {
      "cell_type": "markdown",
      "metadata": {
        "id": "view-in-github",
        "colab_type": "text"
      },
      "source": [
        "[View in Colaboratory](https://colab.research.google.com/github/Gteamer/Tensorflow-Practice/blob/master/Basic_Tensorflow_Classification.ipynb)"
      ]
    },
    {
      "metadata": {
        "id": "UI11HHJkBrzE",
        "colab_type": "code",
        "colab": {}
      },
      "cell_type": "code",
      "source": [
        "import pandas as pd\n",
        "import numpy as np\n",
        "\n",
        "import matplotlib.pyplot as plt\n",
        "import tensorflow as tf\n",
        "\n",
        "%matplotlib inline"
      ],
      "execution_count": 0,
      "outputs": []
    },
    {
      "metadata": {
        "id": "8oYZ5QvOCbhi",
        "colab_type": "code",
        "colab": {}
      },
      "cell_type": "code",
      "source": [
        "houses = [{'Area':2104,'Bathrooms': 3,'Label':\t'Good'},\n",
        "{'Area': 1600,\t'Bathrooms':3,'Label':\t'Good'},\n",
        "{'Area': 2400,\t'Bathrooms':3,'Label':\t'Good'},\n",
        "{'Area': 1416,\t'Bathrooms':2,'Label':\t'Bad'},\n",
        "{'Area': 3000,\t'Bathrooms':4,'Label':\t'Bad'},\n",
        "{'Area': 1985,\t'Bathrooms':4,'Label':\t'Good'},\n",
        "{'Area': 1534,\t'Bathrooms':3,'Label':\t'Bad'},\n",
        "{'Area': 1427,\t'Bathrooms':3,'Label':\t'Good'},\n",
        "{'Area': 1380,\t'Bathrooms':3,'Label':\t'Good'},\n",
        "{'Area': 1494,\t'Bathrooms':3,'Label':\t'Good'}]"
      ],
      "execution_count": 0,
      "outputs": []
    },
    {
      "metadata": {
        "id": "E4LGx1GcDZZ4",
        "colab_type": "code",
        "colab": {}
      },
      "cell_type": "code",
      "source": [
        "data = pd.DataFrame(houses)"
      ],
      "execution_count": 0,
      "outputs": []
    },
    {
      "metadata": {
        "id": "jkH56WvPERro",
        "colab_type": "code",
        "colab": {
          "base_uri": "https://localhost:8080/",
          "height": 359
        },
        "outputId": "dc884cfe-fd8c-45ac-d516-80bea504a37c"
      },
      "cell_type": "code",
      "source": [
        "data.head(10)"
      ],
      "execution_count": 83,
      "outputs": [
        {
          "output_type": "execute_result",
          "data": {
            "text/html": [
              "<div>\n",
              "<style scoped>\n",
              "    .dataframe tbody tr th:only-of-type {\n",
              "        vertical-align: middle;\n",
              "    }\n",
              "\n",
              "    .dataframe tbody tr th {\n",
              "        vertical-align: top;\n",
              "    }\n",
              "\n",
              "    .dataframe thead th {\n",
              "        text-align: right;\n",
              "    }\n",
              "</style>\n",
              "<table border=\"1\" class=\"dataframe\">\n",
              "  <thead>\n",
              "    <tr style=\"text-align: right;\">\n",
              "      <th></th>\n",
              "      <th>Area</th>\n",
              "      <th>Bathrooms</th>\n",
              "      <th>Label</th>\n",
              "    </tr>\n",
              "  </thead>\n",
              "  <tbody>\n",
              "    <tr>\n",
              "      <th>0</th>\n",
              "      <td>2104</td>\n",
              "      <td>3</td>\n",
              "      <td>Good</td>\n",
              "    </tr>\n",
              "    <tr>\n",
              "      <th>1</th>\n",
              "      <td>1600</td>\n",
              "      <td>3</td>\n",
              "      <td>Good</td>\n",
              "    </tr>\n",
              "    <tr>\n",
              "      <th>2</th>\n",
              "      <td>2400</td>\n",
              "      <td>3</td>\n",
              "      <td>Good</td>\n",
              "    </tr>\n",
              "    <tr>\n",
              "      <th>3</th>\n",
              "      <td>1416</td>\n",
              "      <td>2</td>\n",
              "      <td>Bad</td>\n",
              "    </tr>\n",
              "    <tr>\n",
              "      <th>4</th>\n",
              "      <td>3000</td>\n",
              "      <td>4</td>\n",
              "      <td>Bad</td>\n",
              "    </tr>\n",
              "    <tr>\n",
              "      <th>5</th>\n",
              "      <td>1985</td>\n",
              "      <td>4</td>\n",
              "      <td>Good</td>\n",
              "    </tr>\n",
              "    <tr>\n",
              "      <th>6</th>\n",
              "      <td>1534</td>\n",
              "      <td>3</td>\n",
              "      <td>Bad</td>\n",
              "    </tr>\n",
              "    <tr>\n",
              "      <th>7</th>\n",
              "      <td>1427</td>\n",
              "      <td>3</td>\n",
              "      <td>Good</td>\n",
              "    </tr>\n",
              "    <tr>\n",
              "      <th>8</th>\n",
              "      <td>1380</td>\n",
              "      <td>3</td>\n",
              "      <td>Good</td>\n",
              "    </tr>\n",
              "    <tr>\n",
              "      <th>9</th>\n",
              "      <td>1494</td>\n",
              "      <td>3</td>\n",
              "      <td>Good</td>\n",
              "    </tr>\n",
              "  </tbody>\n",
              "</table>\n",
              "</div>"
            ],
            "text/plain": [
              "   Area  Bathrooms Label\n",
              "0  2104          3  Good\n",
              "1  1600          3  Good\n",
              "2  2400          3  Good\n",
              "3  1416          2   Bad\n",
              "4  3000          4   Bad\n",
              "5  1985          4  Good\n",
              "6  1534          3   Bad\n",
              "7  1427          3  Good\n",
              "8  1380          3  Good\n",
              "9  1494          3  Good"
            ]
          },
          "metadata": {
            "tags": []
          },
          "execution_count": 83
        }
      ]
    },
    {
      "metadata": {
        "id": "pMYlKuROEbUH",
        "colab_type": "code",
        "colab": {}
      },
      "cell_type": "code",
      "source": [
        "data['Y1'] = data['Label'].apply(lambda x: 1 if x == 'Good' else 0)\n",
        "data['Y2'] = data['Label'].apply(lambda x: 1 if x == 'Bad' else 0)\n",
        "data.drop('Label',axis=1, inplace=True)"
      ],
      "execution_count": 0,
      "outputs": []
    },
    {
      "metadata": {
        "id": "es1E1BVNM5UQ",
        "colab_type": "code",
        "colab": {
          "base_uri": "https://localhost:8080/",
          "height": 359
        },
        "outputId": "05fcf38b-34e4-44a2-fa4e-af9a2f5d8d13"
      },
      "cell_type": "code",
      "source": [
        "data"
      ],
      "execution_count": 85,
      "outputs": [
        {
          "output_type": "execute_result",
          "data": {
            "text/html": [
              "<div>\n",
              "<style scoped>\n",
              "    .dataframe tbody tr th:only-of-type {\n",
              "        vertical-align: middle;\n",
              "    }\n",
              "\n",
              "    .dataframe tbody tr th {\n",
              "        vertical-align: top;\n",
              "    }\n",
              "\n",
              "    .dataframe thead th {\n",
              "        text-align: right;\n",
              "    }\n",
              "</style>\n",
              "<table border=\"1\" class=\"dataframe\">\n",
              "  <thead>\n",
              "    <tr style=\"text-align: right;\">\n",
              "      <th></th>\n",
              "      <th>Area</th>\n",
              "      <th>Bathrooms</th>\n",
              "      <th>Y1</th>\n",
              "      <th>Y2</th>\n",
              "    </tr>\n",
              "  </thead>\n",
              "  <tbody>\n",
              "    <tr>\n",
              "      <th>0</th>\n",
              "      <td>2104</td>\n",
              "      <td>3</td>\n",
              "      <td>1</td>\n",
              "      <td>0</td>\n",
              "    </tr>\n",
              "    <tr>\n",
              "      <th>1</th>\n",
              "      <td>1600</td>\n",
              "      <td>3</td>\n",
              "      <td>1</td>\n",
              "      <td>0</td>\n",
              "    </tr>\n",
              "    <tr>\n",
              "      <th>2</th>\n",
              "      <td>2400</td>\n",
              "      <td>3</td>\n",
              "      <td>1</td>\n",
              "      <td>0</td>\n",
              "    </tr>\n",
              "    <tr>\n",
              "      <th>3</th>\n",
              "      <td>1416</td>\n",
              "      <td>2</td>\n",
              "      <td>0</td>\n",
              "      <td>1</td>\n",
              "    </tr>\n",
              "    <tr>\n",
              "      <th>4</th>\n",
              "      <td>3000</td>\n",
              "      <td>4</td>\n",
              "      <td>0</td>\n",
              "      <td>1</td>\n",
              "    </tr>\n",
              "    <tr>\n",
              "      <th>5</th>\n",
              "      <td>1985</td>\n",
              "      <td>4</td>\n",
              "      <td>1</td>\n",
              "      <td>0</td>\n",
              "    </tr>\n",
              "    <tr>\n",
              "      <th>6</th>\n",
              "      <td>1534</td>\n",
              "      <td>3</td>\n",
              "      <td>0</td>\n",
              "      <td>1</td>\n",
              "    </tr>\n",
              "    <tr>\n",
              "      <th>7</th>\n",
              "      <td>1427</td>\n",
              "      <td>3</td>\n",
              "      <td>1</td>\n",
              "      <td>0</td>\n",
              "    </tr>\n",
              "    <tr>\n",
              "      <th>8</th>\n",
              "      <td>1380</td>\n",
              "      <td>3</td>\n",
              "      <td>1</td>\n",
              "      <td>0</td>\n",
              "    </tr>\n",
              "    <tr>\n",
              "      <th>9</th>\n",
              "      <td>1494</td>\n",
              "      <td>3</td>\n",
              "      <td>1</td>\n",
              "      <td>0</td>\n",
              "    </tr>\n",
              "  </tbody>\n",
              "</table>\n",
              "</div>"
            ],
            "text/plain": [
              "   Area  Bathrooms  Y1  Y2\n",
              "0  2104          3   1   0\n",
              "1  1600          3   1   0\n",
              "2  2400          3   1   0\n",
              "3  1416          2   0   1\n",
              "4  3000          4   0   1\n",
              "5  1985          4   1   0\n",
              "6  1534          3   0   1\n",
              "7  1427          3   1   0\n",
              "8  1380          3   1   0\n",
              "9  1494          3   1   0"
            ]
          },
          "metadata": {
            "tags": []
          },
          "execution_count": 85
        }
      ]
    },
    {
      "metadata": {
        "id": "INcBgc6IFI8i",
        "colab_type": "code",
        "colab": {}
      },
      "cell_type": "code",
      "source": [
        "inputX = data.iloc[:, 0:2].as_matrix()\n",
        "inputY = data.loc[:, ['Y1', 'Y2']].as_matrix()"
      ],
      "execution_count": 0,
      "outputs": []
    },
    {
      "metadata": {
        "id": "R2H5RmyTLezN",
        "colab_type": "code",
        "colab": {
          "base_uri": "https://localhost:8080/",
          "height": 187
        },
        "outputId": "9697646a-9462-4edd-c1c1-0312934990f9"
      },
      "cell_type": "code",
      "source": [
        "inputX"
      ],
      "execution_count": 87,
      "outputs": [
        {
          "output_type": "execute_result",
          "data": {
            "text/plain": [
              "array([[2104,    3],\n",
              "       [1600,    3],\n",
              "       [2400,    3],\n",
              "       [1416,    2],\n",
              "       [3000,    4],\n",
              "       [1985,    4],\n",
              "       [1534,    3],\n",
              "       [1427,    3],\n",
              "       [1380,    3],\n",
              "       [1494,    3]])"
            ]
          },
          "metadata": {
            "tags": []
          },
          "execution_count": 87
        }
      ]
    },
    {
      "metadata": {
        "id": "vKcO92CGFLxQ",
        "colab_type": "code",
        "colab": {
          "base_uri": "https://localhost:8080/",
          "height": 187
        },
        "outputId": "a087116b-9f97-41c8-a546-dc9625bf9930"
      },
      "cell_type": "code",
      "source": [
        "inputY"
      ],
      "execution_count": 88,
      "outputs": [
        {
          "output_type": "execute_result",
          "data": {
            "text/plain": [
              "array([[1, 0],\n",
              "       [1, 0],\n",
              "       [1, 0],\n",
              "       [0, 1],\n",
              "       [0, 1],\n",
              "       [1, 0],\n",
              "       [0, 1],\n",
              "       [1, 0],\n",
              "       [1, 0],\n",
              "       [1, 0]])"
            ]
          },
          "metadata": {
            "tags": []
          },
          "execution_count": 88
        }
      ]
    },
    {
      "metadata": {
        "id": "VrJNgnQcHJub",
        "colab_type": "text"
      },
      "cell_type": "markdown",
      "source": [
        "## Parameters"
      ]
    },
    {
      "metadata": {
        "id": "79Ph3EPcG7ms",
        "colab_type": "code",
        "colab": {}
      },
      "cell_type": "code",
      "source": [
        "learning_rate = 0.000001\n",
        "training_epochs = 2000\n",
        "display_step = 50\n",
        "n_samples = inputY.size"
      ],
      "execution_count": 0,
      "outputs": []
    },
    {
      "metadata": {
        "id": "TC-B_8nIHayh",
        "colab_type": "code",
        "colab": {}
      },
      "cell_type": "code",
      "source": [
        "x = tf.placeholder(tf.float32, [None, 2]) # This will be an array of area and number of bathrooms\n",
        "\n",
        "W = tf.Variable(tf.zeros([2,2])) # Maintain a 2 x 2 float matrix for the weights\n",
        "\n",
        "b = tf.Variable(tf.zeros([2])) # Also maintain 2 bias values\n",
        "\n",
        "y_values = tf.add(tf.matmul(x, W), b) # Multiply the matrices and then add bias\n",
        "\n",
        "y = tf.nn.softmax(y_values) # Applying the activation function\n",
        "\n",
        "y_ = tf.placeholder(tf.float32, [None, 2]) # A matrix of labels for training"
      ],
      "execution_count": 0,
      "outputs": []
    },
    {
      "metadata": {
        "id": "7rOY0uvjJCDl",
        "colab_type": "text"
      },
      "cell_type": "markdown",
      "source": [
        "### Specifying the Cost Function and using Gradient Descent"
      ]
    },
    {
      "metadata": {
        "id": "o0o8Gj-jHiyZ",
        "colab_type": "code",
        "colab": {}
      },
      "cell_type": "code",
      "source": [
        "cost = tf.reduce_sum(tf.pow(y_ - y, 2))/(2*n_samples) # Cost function, Mean Squared Error\n",
        "\n",
        "optimizer = tf.train.GradientDescentOptimizer(learning_rate).minimize(cost) # Gradient Descent"
      ],
      "execution_count": 0,
      "outputs": []
    },
    {
      "metadata": {
        "id": "qB3Jrd1ZJ_M0",
        "colab_type": "text"
      },
      "cell_type": "markdown",
      "source": [
        "## Initialize Variables and Tensorflow Session"
      ]
    },
    {
      "metadata": {
        "id": "LGpk1VcVJLZj",
        "colab_type": "code",
        "colab": {}
      },
      "cell_type": "code",
      "source": [
        "init = tf.global_variables_initializer()\n",
        "sess = tf.Session()\n",
        "sess.run(init)"
      ],
      "execution_count": 0,
      "outputs": []
    },
    {
      "metadata": {
        "id": "qgOBLShUKFP5",
        "colab_type": "code",
        "colab": {
          "base_uri": "https://localhost:8080/",
          "height": 765
        },
        "outputId": "c1e78a71-90a0-4e2d-ff83-18b3c3493d93"
      },
      "cell_type": "code",
      "source": [
        "for i in range(training_epochs):\n",
        "  sess.run(optimizer, feed_dict={x: inputX, y_: inputY}) # Take a gradient descent step\n",
        "  \n",
        "  if (i) % display_step == 0:\n",
        "    cc = sess.run(cost, feed_dict={x: inputX, y_: inputY})\n",
        "    print('Training Step: ', '%04d' % (i), 'cost=', '{:.9f}'.format(cc))\n",
        "    \n",
        "    \n",
        "print('Optimization Finished!')\n",
        "training_cost = sess.run(cost, feed_dict={x: inputX, y_: inputY})\n",
        "print(\"Training cost=\", training_cost, \"W=\", sess.run(W), \"b=\", sess.run(b), '\\n')"
      ],
      "execution_count": 93,
      "outputs": [
        {
          "output_type": "stream",
          "text": [
            "Training Step:  0000 cost= 0.114958659\n",
            "Training Step:  0050 cost= 0.109539941\n",
            "Training Step:  0100 cost= 0.109539881\n",
            "Training Step:  0150 cost= 0.109539807\n",
            "Training Step:  0200 cost= 0.109539740\n",
            "Training Step:  0250 cost= 0.109539680\n",
            "Training Step:  0300 cost= 0.109539606\n",
            "Training Step:  0350 cost= 0.109539531\n",
            "Training Step:  0400 cost= 0.109539464\n",
            "Training Step:  0450 cost= 0.109539405\n",
            "Training Step:  0500 cost= 0.109539323\n",
            "Training Step:  0550 cost= 0.109539263\n",
            "Training Step:  0600 cost= 0.109539188\n",
            "Training Step:  0650 cost= 0.109539129\n",
            "Training Step:  0700 cost= 0.109539054\n",
            "Training Step:  0750 cost= 0.109538987\n",
            "Training Step:  0800 cost= 0.109538913\n",
            "Training Step:  0850 cost= 0.109538846\n",
            "Training Step:  0900 cost= 0.109538786\n",
            "Training Step:  0950 cost= 0.109538712\n",
            "Training Step:  1000 cost= 0.109538652\n",
            "Training Step:  1050 cost= 0.109538577\n",
            "Training Step:  1100 cost= 0.109538510\n",
            "Training Step:  1150 cost= 0.109538436\n",
            "Training Step:  1200 cost= 0.109538376\n",
            "Training Step:  1250 cost= 0.109538309\n",
            "Training Step:  1300 cost= 0.109538235\n",
            "Training Step:  1350 cost= 0.109538175\n",
            "Training Step:  1400 cost= 0.109538101\n",
            "Training Step:  1450 cost= 0.109538034\n",
            "Training Step:  1500 cost= 0.109537959\n",
            "Training Step:  1550 cost= 0.109537892\n",
            "Training Step:  1600 cost= 0.109537832\n",
            "Training Step:  1650 cost= 0.109537758\n",
            "Training Step:  1700 cost= 0.109537698\n",
            "Training Step:  1750 cost= 0.109537616\n",
            "Training Step:  1800 cost= 0.109537557\n",
            "Training Step:  1850 cost= 0.109537482\n",
            "Training Step:  1900 cost= 0.109537423\n",
            "Training Step:  1950 cost= 0.109537356\n",
            "Optimization Finished!\n",
            "Training cost= 0.10953728 W= [[ 2.1414983e-04 -2.1414967e-04]\n",
            " [ 5.1274819e-05 -5.1274808e-05]] b= [ 1.1915521e-05 -1.1915522e-05] \n",
            "\n"
          ],
          "name": "stdout"
        }
      ]
    },
    {
      "metadata": {
        "id": "zTjJI8OtLXlb",
        "colab_type": "code",
        "colab": {
          "base_uri": "https://localhost:8080/",
          "height": 187
        },
        "outputId": "ba2c516b-c4e0-4fc4-a47c-a13e1ef6914d"
      },
      "cell_type": "code",
      "source": [
        "sess.run(y, feed_dict={x: inputX})"
      ],
      "execution_count": 94,
      "outputs": [
        {
          "output_type": "execute_result",
          "data": {
            "text/plain": [
              "array([[0.7112523 , 0.28874776],\n",
              "       [0.66498977, 0.33501023],\n",
              "       [0.73657656, 0.26342347],\n",
              "       [0.64718795, 0.3528121 ],\n",
              "       [0.78335613, 0.21664387],\n",
              "       [0.7006948 , 0.2993052 ],\n",
              "       [0.6586633 , 0.34133673],\n",
              "       [0.6482863 , 0.35171375],\n",
              "       [0.6436828 , 0.35631716],\n",
              "       [0.6548012 , 0.34519887]], dtype=float32)"
            ]
          },
          "metadata": {
            "tags": []
          },
          "execution_count": 94
        }
      ]
    },
    {
      "metadata": {
        "id": "mq-O8-xoNOpM",
        "colab_type": "code",
        "colab": {
          "base_uri": "https://localhost:8080/",
          "height": 34
        },
        "outputId": "5c4bdfeb-32e8-48ab-bd97-a5d957c4f682"
      },
      "cell_type": "code",
      "source": [
        "sess.run(tf.nn.softmax([1., 2.]))"
      ],
      "execution_count": 95,
      "outputs": [
        {
          "output_type": "execute_result",
          "data": {
            "text/plain": [
              "array([0.26894143, 0.7310586 ], dtype=float32)"
            ]
          },
          "metadata": {
            "tags": []
          },
          "execution_count": 95
        }
      ]
    },
    {
      "metadata": {
        "id": "XTmwwecsNU_F",
        "colab_type": "code",
        "colab": {}
      },
      "cell_type": "code",
      "source": [
        ""
      ],
      "execution_count": 0,
      "outputs": []
    }
  ]
}